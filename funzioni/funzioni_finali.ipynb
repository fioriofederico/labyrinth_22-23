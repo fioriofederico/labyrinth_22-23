{
 "cells": [
  {
   "cell_type": "code",
   "execution_count": 146,
   "metadata": {},
   "outputs": [
    {
     "name": "stdout",
     "output_type": "stream",
     "text": [
      "['20-10_marked_1675687273.json', '20-10_marked_1675687844.json', '20-10_marked_1675704962.json', '20-10_marked_1675705658.json', '30-20_marked_1675707917.json', 'labirinto3b_marked_1675707385.json', 'output_1674380132.json', 'output_1674968773.json', 'path_20230206_134140.json', 'path_20230206_191610.json', 'path_20230206_191641.json']\n"
     ]
    }
   ],
   "source": [
    "import json\n",
    "import matplotlib.pyplot as plt\n",
    "from PIL import Image, ImageDraw\n",
    "import numpy as np\n",
    "import os\n",
    "from datetime import datetime\n",
    "from skimage.morphology import skeletonize\n",
    "\n",
    "\"\"\"\n",
    "Prima di lanciare il codice assicurarsi di aver inserito nella cartella \"indata\" il file json con il labirinto e il file .tiff dell'immagine che lo rappresenta.\n",
    "Se non si ha a disposizione un labirinto, tornare sul main e crearne uno prima di lanciare il codice.\n",
    "\n",
    "N.B: L'immagine che si desidera sovrascrivere deve essere l'ultima caricata in indata\n",
    "\"\"\"\n",
    "#recupero il percorso corrente del file\n",
    "current_path = os.getcwd()\n",
    "#creo un percorso combinando il percorso corrente con la cartella \"output\"\n",
    "path = os.path.join(current_path,\"../output/\")\n",
    "#utilizzo una list comprehension per creare una lista di file nella cartella specificata che terminano con \".json\"\n",
    "json_files = [f for f in os.listdir(path) if f.endswith('.json')]\n",
    "print(json_files)"
   ]
  },
  {
   "cell_type": "code",
   "execution_count": 147,
   "metadata": {},
   "outputs": [],
   "source": [
    "#imposto la variabile \"latest_file\" come una stringa vuota e la variabile \"latest_timestamp\" come una data iniziale molto vecchia (1 gennaio 1)\n",
    "latest_file = \"\"\n",
    "latest_timestamp = datetime(1, 1, 1)\n",
    "#verifico se ci sono file nella directory specificata\n",
    "if json_files:\n",
    "    for file in json_files:\n",
    "        # ottengo la data di modifica del file in formato timestamp\n",
    "        timestamp = os.path.getmtime(os.path.join(path, file))\n",
    "        # la converto in un oggetto datetime\n",
    "        timestamp = datetime.fromtimestamp(timestamp)\n",
    "        # confronto la data di modifica con quella del file più recente \n",
    "        if timestamp > latest_timestamp:\n",
    "            latest_file = file  #se è più recente, la variabile \"latest_file\" viene impostata come il nome del file corrente \n",
    "            latest_timestamp = timestamp    #e la variabile \"latest_timestamp\" viene impostata come la data di modifica del file corrente."
   ]
  },
  {
   "cell_type": "code",
   "execution_count": 148,
   "metadata": {},
   "outputs": [],
   "source": [
    "# apro e manipolo il file più recente\n",
    "with open(os.path.join(path, latest_file)) as f:\n",
    "    #leggo i dati del file e li carica in una stringa json.\n",
    "    json_string = json.load(f)\n",
    "    data = json.loads(json_string)\n",
    "#print(data)"
   ]
  },
  {
   "cell_type": "code",
   "execution_count": 149,
   "metadata": {},
   "outputs": [],
   "source": [
    "#best_path e best_cost inizializzano due variabili rispettivamente come {} e infinito.\n",
    "best_path = None\n",
    "best_cost = float('inf')\n",
    "#Il ciclo for scorre attraverso tutti i valori del dizionario data, che rappresentano percorsi\n",
    "for percorso in data.values():\n",
    "    #e controlla se il costo di un determinato percorso è minore di best_cost\n",
    "    if percorso['cost'] < best_cost:\n",
    "        #Se è così, assegna quel percorso e il suo costo a best_path e best_cost.\n",
    "        best_path = percorso\n",
    "        best_cost = percorso['cost']\n",
    "#stampo il percorso con il costo minimo\n",
    "#print(best_path)"
   ]
  },
  {
   "cell_type": "code",
   "execution_count": 150,
   "metadata": {},
   "outputs": [],
   "source": [
    "path_json = json.dumps(best_path)\n",
    "#print(path_json)\n",
    "#genero un nome univoco per il file a seconda dellea data e dell'ora attuali\n",
    "now = datetime.now()\n",
    "filename = now.strftime(\"../output/path_%Y%m%d_%H%M%S.json\")\n",
    "\n",
    "#creo il file JSON (scrivo il contenuto di \"path_json\" in un file json con nome \"filename\".\n",
    "with open(filename, 'w') as f:\n",
    "    #e il contenuto viene scritto utilizzando il metodo \"dump\" di json\n",
    "    json.dump(path_json, f)\n",
    "#print(filename)\n",
    "#print(path_json)\n"
   ]
  },
  {
   "cell_type": "code",
   "execution_count": 151,
   "metadata": {},
   "outputs": [
    {
     "name": "stdout",
     "output_type": "stream",
     "text": [
      "(0, 29)\n",
      "(21, 31)\n"
     ]
    }
   ],
   "source": [
    "path_json = json.loads(path_json)\n",
    "start = tuple(map(int, path_json[\"start\"]))\n",
    "goal = tuple(map(int, path_json[\"goal\"]))\n",
    "path_visited = path_json[\"pathVisited\"]\n",
    "for x, y in path_visited:\n",
    "    if (x, y) == start:\n",
    "        start_x, start_y = x, y\n",
    "    elif (x, y) == goal:\n",
    "        goal_x, goal_y = x, y\n",
    "\n",
    "print(start)\n",
    "print(goal)"
   ]
  },
  {
   "cell_type": "code",
   "execution_count": 152,
   "metadata": {},
   "outputs": [
    {
     "name": "stdout",
     "output_type": "stream",
     "text": [
      "29 0\n",
      "31 21\n",
      "(29, 0)\n",
      "(31, 21)\n"
     ]
    }
   ],
   "source": [
    "x0,y0 = start\n",
    "y0,x0 = x0,y0\n",
    "x1,y1 = goal\n",
    "y1,x1 = x1,y1\n",
    "print(x0,y0)\n",
    "print(x1,y1)\n",
    "start = x0,y0\n",
    "goal = x1,y1\n",
    "print(start)\n",
    "print(goal)\n"
   ]
  },
  {
   "cell_type": "code",
   "execution_count": 153,
   "metadata": {},
   "outputs": [],
   "source": [
    "#print(path_visited)\n",
    "new_path_visited = [(y, x) for x, y in path_visited]            #in più\n",
    "#print (new_path_visited)"
   ]
  },
  {
   "cell_type": "code",
   "execution_count": 154,
   "metadata": {},
   "outputs": [
    {
     "name": "stdout",
     "output_type": "stream",
     "text": [
      "['30-20_marked.tiff']\n"
     ]
    }
   ],
   "source": [
    "#recupero il percorso corrente del file\n",
    "current_path = os.getcwd()\n",
    "#creo un percorso combinando il percorso corrente con la cartella \"indata\"\n",
    "img_files = os.path.join(current_path,\"../img_input/\")\n",
    "#utilizzo una list comprehension per creare una lista di file nella cartella specificata che terminano con \".tiff\"\n",
    "img = [f for f in os.listdir(img_files) if f.endswith('.tiff')]\n",
    "print(img)"
   ]
  },
  {
   "cell_type": "code",
   "execution_count": 155,
   "metadata": {},
   "outputs": [],
   "source": [
    "#imposto la variabile \"latest_file\" come una stringa vuota e la variabile \"latest_timestamp\" come una data iniziale molto vecchia (1 gennaio 1)\n",
    "latest_file = \"\"\n",
    "latest_timestamp = datetime(1, 1, 1)\n",
    "#verifico se ci sono file nella directory specificata\n",
    "if img:\n",
    "    for file in img:\n",
    "        # ottengo la data di modifica del file in formato timestamp\n",
    "        timestamp = os.path.getmtime(os.path.join(img_files, file))\n",
    "        # la converto in un oggetto datetime\n",
    "        timestamp = datetime.fromtimestamp(timestamp)\n",
    "        # confronto la data di modifica con quella del file più recente \n",
    "        if timestamp > latest_timestamp:\n",
    "            latest_file = file  #se è più recente, la variabile \"latest_file\" viene impostata come il nome del file corrente \n",
    "            latest_timestamp = timestamp    #e la variabile \"latest_timestamp\" viene impostata come la data di modifica del file corrente."
   ]
  },
  {
   "cell_type": "code",
   "execution_count": 156,
   "metadata": {},
   "outputs": [
    {
     "data": {
      "text/plain": [
       "[<matplotlib.lines.Line2D at 0x1f685fb5f10>]"
      ]
     },
     "execution_count": 156,
     "metadata": {},
     "output_type": "execute_result"
    },
    {
     "data": {
      "image/png": "[encoded data removed]",
      "text/plain": [
       "<Figure size 1000x1000 with 1 Axes>"
      ]
     },
     "metadata": {},
     "output_type": "display_data"
    }
   ],
   "source": [
    "img = os.path.join(img_files, latest_file)\n",
    "rgb_img = plt.imread(img)\n",
    "plt.figure(figsize=(10,10))\n",
    "plt.imshow(rgb_img)\n",
    "\n",
    "plt.plot(x0,y0, 'gx', markersize = 14)\n",
    "plt.plot(x1,y1, 'rx', markersize = 14)\n"
   ]
  },
  {
   "cell_type": "code",
   "execution_count": 24,
   "metadata": {},
   "outputs": [],
   "source": [
    "#img_name = '../indata/labirinto2_marked.tiff'\n",
    "#rgb_img = plt.imread(img_name)\n",
    "#\n",
    "#plt.figure(figsize=(10,10))\n",
    "#plt.imshow(rgb_img)\n",
    "#\n",
    "#plt.plot(x0,y0, 'gx', markersize = 14)\n",
    "#plt.plot(x1,y1, 'rx', markersize = 14)\n"
   ]
  },
  {
   "cell_type": "code",
   "execution_count": 157,
   "metadata": {},
   "outputs": [
    {
     "data": {
      "text/plain": [
       "[<matplotlib.lines.Line2D at 0x1f685b00220>]"
      ]
     },
     "execution_count": 157,
     "metadata": {},
     "output_type": "execute_result"
    },
    {
     "data": {
      "image/png": "[encoded data removed]",
      "text/plain": [
       "<Figure size 1000x1000 with 1 Axes>"
      ]
     },
     "metadata": {},
     "output_type": "display_data"
    }
   ],
   "source": [
    "thr_img = rgb_img[:,:,0] > 128\n",
    "skeleton = skeletonize(thr_img)\n",
    "plt.figure(figsize=(10,10))\n",
    "plt.imshow(skeleton)\n",
    "#map of routes\n",
    "mapT = ~skeleton\n",
    "plt.imshow(mapT)\n",
    "plt.plot(x0,y0, 'gx', markersize=14)\n",
    "plt.plot(x1,y1, 'rx', markersize=14)\n",
    "#plt.plot(x2,y2, 'bx', markersize = 14)\n",
    "#plt.plot(x,y, 'ro')"
   ]
  },
  {
   "cell_type": "code",
   "execution_count": 158,
   "metadata": {},
   "outputs": [
    {
     "name": "stdout",
     "output_type": "stream",
     "text": [
      "Optimum route found.\n"
     ]
    },
    {
     "data": {
      "image/png": "[encoded data removed]",
      "text/plain": [
       "<Figure size 500x500 with 1 Axes>"
      ]
     },
     "metadata": {},
     "output_type": "display_data"
    }
   ],
   "source": [
    "#let'go a temporanery copy of this\n",
    "_mapt = np.copy(mapT)\n",
    "\n",
    "#searching to our endpoint and connect to the path\n",
    "boxr = 2\n",
    "\n",
    "cpys, cpxs = np.where(_mapt[y1-boxr:y1+boxr, x1-boxr:x1+boxr]==0) #x e y di destinazione\n",
    "\n",
    "\n",
    "#calibrate points to main scale\n",
    "cpys += y1-boxr #x e y di destinazione\n",
    "cpxs += x1-boxr\n",
    "\n",
    "#find clooset point of possible path endpoints\n",
    "idx = np.argmin(np.sqrt((cpys-y1)**2 + (cpxs-x1)**2)) #x e y di destinazione\n",
    "y, x = cpys[idx], cpxs[idx]\n",
    "\n",
    "pts_x = [x]\n",
    "pts_y = [y]\n",
    "pts_c = [0]\n",
    "\n",
    "#mesh of displacements\n",
    "xmesh, ymesh = np.meshgrid(np.arange(-1,2),np.arange(-1,2))\n",
    "ymesh = ymesh.reshape(-1)\n",
    "xmesh = xmesh.reshape(-1)\n",
    "\n",
    "dst = np.zeros(thr_img.shape)\n",
    "\n",
    "#Breath first algorithm exploring a tree\n",
    "while(True):\n",
    "    #update distance\n",
    "    idc = np.argmin(pts_c)\n",
    "    ct = pts_c.pop(idc)\n",
    "    x = pts_x.pop(idc)\n",
    "    y = pts_y.pop(idc)\n",
    "    #Search 3x3 neighbourhood for possible\n",
    "    ys, xs = np.where(_mapt[y-1:y+2,x-1:x+2] == 0) #x e y generici diversi da destinazione e arrivo\n",
    "    #Invalidate these point from future searchers\n",
    "    _mapt[ys+y-1, xs+x-1] = ct\n",
    "    _mapt[y,x] = 999999\n",
    "    #Set the distance in the distance image\n",
    "    dst[ys+y-1,xs+x-1] = ct + 1\n",
    "    #\n",
    "    pts_x.extend(xs+x-1)\n",
    "    pts_y.extend(ys+y-1)\n",
    "    pts_c.extend([ct+1]*xs.shape[0])\n",
    "    #If we run of points\n",
    "    if pts_x == []:\n",
    "        break;\n",
    "    if np.sqrt((x-x0)**2 +(y-y0)**2) < boxr: #x0 prima partenza\n",
    "        edx = x\n",
    "        edy = y\n",
    "        break;\n",
    "\n",
    "plt.figure(figsize=(5,5))\n",
    "plt.imshow(dst)\n",
    "\n",
    "path_x = []\n",
    "path_y = []\n",
    "\n",
    "y = edy\n",
    "x = edx\n",
    "while(True):\n",
    "    nbh = dst[y-1:y+2,x-1:x+2]\n",
    "    nbh[1,1] = 9999999\n",
    "    nbh[nbh==0] = 9999999\n",
    "    #if we reach a deadend\n",
    "    if np.min(nbh) == 9999999:\n",
    "        break;\n",
    "    idx = np.argmin(nbh)\n",
    "    #find direction\n",
    "    y += ymesh[idx]\n",
    "    x += xmesh[idx]\n",
    "\n",
    "    if np.sqrt((x-x1)**2 + (y-y1)**2) < boxr:   #arrivo\n",
    "        print('Optimum route found.')\n",
    "        break\n",
    "    path_y.append(y)\n",
    "    path_x.append(x)"
   ]
  },
  {
   "cell_type": "code",
   "execution_count": 159,
   "metadata": {},
   "outputs": [
    {
     "data": {
      "text/plain": [
       "[<matplotlib.lines.Line2D at 0x1f68994b7f0>]"
      ]
     },
     "execution_count": 159,
     "metadata": {},
     "output_type": "execute_result"
    },
    {
     "data": {
      "image/png": "[encoded data removed]",
      "text/plain": [
       "<Figure size 1000x1000 with 1 Axes>"
      ]
     },
     "metadata": {},
     "output_type": "display_data"
    }
   ],
   "source": [
    "plt.figure(figsize=(10,10))\n",
    "plt.imshow(rgb_img)\n",
    "plt.plot(x0,y0, 'gx', markersize=14)\n",
    "plt.plot(x1,y1, 'rx', markersize=14)\n",
    "#plt.plot(x2,y2, 'bx', markersize = 14)\n",
    "plt.plot(path_x, path_y, 'r-', linewidth=4)\n",
    "#plt.plot(path_x4, path_y4, 'g-', linewidth=10)"
   ]
  },
  {
   "cell_type": "code",
   "execution_count": 47,
   "metadata": {},
   "outputs": [
    {
     "data": {
      "text/plain": [
       "'\\nPer trovare solo la lista delle coordinate all\\'interno del percorso con costo inferiore facciamo questo comando:\\n\\n#estraggo la chiave \"pathVisited\" dall\\'oggetto \"best_path\" e la assegno alla variabile \"path_visited\"\\npath_visited = best_path[\"pathVisited\"]\\nprint(path_visited)\\n\\n#path_visited la vogliamo trasformare in una lista di tuple dove ogni tupla rappresenta un punto sulla mappa (x, y). \\n#Sto convertendo tutti gli elementi della lista path_visited in tuple, in modo che ogni elemento della lista sia una tupla anziché una lista\\npath_visited = list(map(tuple, path_visited))\\nprint(path_visited)\\n\\n'"
      ]
     },
     "execution_count": 47,
     "metadata": {},
     "output_type": "execute_result"
    }
   ],
   "source": [
    "\"\"\"\n",
    "Per trovare solo la lista delle coordinate all'interno del percorso con costo inferiore facciamo questo comando:\n",
    "\n",
    "#estraggo la chiave \"pathVisited\" dall'oggetto \"best_path\" e la assegno alla variabile \"path_visited\"\n",
    "path_visited = best_path[\"pathVisited\"]\n",
    "print(path_visited)\n",
    "\n",
    "#path_visited la vogliamo trasformare in una lista di tuple dove ogni tupla rappresenta un punto sulla mappa (x, y). \n",
    "#Sto convertendo tutti gli elementi della lista path_visited in tuple, in modo che ogni elemento della lista sia una tupla anziché una lista\n",
    "path_visited = list(map(tuple, path_visited))\n",
    "print(path_visited)\n",
    "\n",
    "\"\"\""
   ]
  },
  {
   "cell_type": "code",
   "execution_count": 160,
   "metadata": {},
   "outputs": [
    {
     "data": {
      "text/plain": [
       "'\\n# Caricamento dell\\'immagine\\nimg = Image.open(img_files, latest_file, \\'r\\')\\n#img = os.path.join(img_files, latest_file)\\npixels = img.load()\\n\\n# Lettura dei punti dal file JSON\\npoints = []\\n#with open(\"punti.json\", \"r\") as f:\\n    #points = json.load(f)\\npoints = new_path_visited\\n# Filtrare i punti che passano sui pixel neri\\nfiltered_points = []\\nfor x, y in points:\\n    if pixels[x, y] != (0, 0, 0):\\n        filtered_points.append((x, y))\\n\\n# Salvare i punti filtrati in un nuovo file JSON\\nwith open(\"punti_filtrati.json\", \"w\") as f:\\n    json.dump(filtered_points, f)\\n'"
      ]
     },
     "execution_count": 160,
     "metadata": {},
     "output_type": "execute_result"
    }
   ],
   "source": [
    "\"\"\"\n",
    "# Caricamento dell'immagine\n",
    "img = Image.open(img_files, latest_file, 'r')\n",
    "#img = os.path.join(img_files, latest_file)\n",
    "pixels = img.load()\n",
    "\n",
    "# Lettura dei punti dal file JSON\n",
    "points = []\n",
    "#with open(\"punti.json\", \"r\") as f:\n",
    "    #points = json.load(f)\n",
    "points = new_path_visited\n",
    "# Filtrare i punti che passano sui pixel neri\n",
    "filtered_points = []\n",
    "for x, y in points:\n",
    "    if pixels[x, y] != (0, 0, 0):\n",
    "        filtered_points.append((x, y))\n",
    "\n",
    "# Salvare i punti filtrati in un nuovo file JSON\n",
    "with open(\"punti_filtrati.json\", \"w\") as f:\n",
    "    json.dump(filtered_points, f)\n",
    "\"\"\""
   ]
  },
  {
   "cell_type": "code",
   "execution_count": null,
   "metadata": {},
   "outputs": [],
   "source": [
    "\"\"\"\n",
    "#path_visited = [(y, x) for x, y in path_visited]\n",
    "#print(path_visited)\n",
    "import cv2\n",
    "import numpy as np\n",
    "import os\n",
    "\n",
    "# Caricamento immagine\n",
    "img = os.path.join(img_files, latest_file)\n",
    "img_cv = cv2.imread(img)\n",
    "\n",
    "# Creazione immagine di lavoro\n",
    "mask = np.zeros_like(img_cv)\n",
    "\n",
    "# Definizione punto iniziale e finale\n",
    "pts = np.array([[x0, y0], [x1, y1]], dtype=np.int32)\n",
    "\n",
    "# Riempimento immagine di lavoro\n",
    "cv2.fillPoly(mask, [pts], (255, 255, 255))\n",
    "\n",
    "# Applicazione maschera all'immagine\n",
    "result = cv2.bitwise_and(img_cv, mask)\n",
    "\n",
    "# Mostrare il risultato\n",
    "cv2.imshow('Result', result)\n",
    "cv2.waitKey(0)\n",
    "cv2.destroyAllWindows()\n",
    "\"\"\""
   ]
  },
  {
   "attachments": {},
   "cell_type": "markdown",
   "metadata": {},
   "source": [
    "Ora da qui in poi facciamo le prove per sovrascrivere il percorso ottimo trovato all'immagine iniziale"
   ]
  },
  {
   "cell_type": "code",
   "execution_count": 48,
   "metadata": {},
   "outputs": [
    {
     "data": {
      "text/plain": [
       "'\\nCon il seguente comando vediamo tutte le coordinate attraversate dal percorso:\\n\\nimg = os.path.join(img_files, latest_file)\\nrgb_img = plt.imread(img)\\nplt.figure(figsize=(10,10))\\nplt.imshow(rgb_img)\\n\\nplt.plot(x0,y0, \\'gx\\', markersize = 14)\\nplt.plot(x1,y1, \\'rx\\', markersize = 14)\\n#img = plt.imread(\"../indata/30-20_marked.tiff\")\\n#path_visited = [(y, x) for x, y in path_visited]\\n#path_json = json.loads(path_json)\\n#start = tuple(map(int, path_json[\"start\"]))\\n#goal = tuple(map(int, path_json[\"goal\"]))\\n#path_visited = path_json[\"pathVisited\"]\\n#for x, y in path_visited:\\n#    if (x, y) == start:\\n#        start_x, start_y = x, y\\n#    elif (x, y) == goal:\\n#        goal_x, goal_y = x, y\\n\\n\\n\\nimg = os.path.join(img_files, latest_file)\\n#img = plt.imread(\"../indata/30-20_marked.tiff\")\\nheight, width, _ = img.shape\\npath_visited = [(y, x) for x, y in path_visited]\\nfor x, y in path_visited:\\n    if 0 <= x < width and 0 <= y < height:\\n        plt.scatter(x, y, c=\\'r\\', s=4)\\n        # disegna il punto (x, y) sull\\'immagine\\n    else:\\n        print(\"Coordinate fuori dalle dimensioni dell\\'immagine:\", x, y)\\n        # le coordinate non sono valide, quindi non disegna nulla\\nprint(path_visited)\\n'"
      ]
     },
     "execution_count": 48,
     "metadata": {},
     "output_type": "execute_result"
    }
   ],
   "source": [
    "\"\"\"\n",
    "Con il seguente comando vediamo tutte le coordinate attraversate dal percorso:\n",
    "\n",
    "img = os.path.join(img_files, latest_file)\n",
    "rgb_img = plt.imread(img)\n",
    "plt.figure(figsize=(10,10))\n",
    "plt.imshow(rgb_img)\n",
    "\n",
    "plt.plot(x0,y0, 'gx', markersize = 14)\n",
    "plt.plot(x1,y1, 'rx', markersize = 14)\n",
    "#img = plt.imread(\"../indata/30-20_marked.tiff\")\n",
    "#path_visited = [(y, x) for x, y in path_visited]\n",
    "#path_json = json.loads(path_json)\n",
    "#start = tuple(map(int, path_json[\"start\"]))\n",
    "#goal = tuple(map(int, path_json[\"goal\"]))\n",
    "#path_visited = path_json[\"pathVisited\"]\n",
    "#for x, y in path_visited:\n",
    "#    if (x, y) == start:\n",
    "#        start_x, start_y = x, y\n",
    "#    elif (x, y) == goal:\n",
    "#        goal_x, goal_y = x, y\n",
    "\n",
    "\n",
    "\n",
    "img = os.path.join(img_files, latest_file)\n",
    "#img = plt.imread(\"../indata/30-20_marked.tiff\")\n",
    "height, width, _ = img.shape\n",
    "path_visited = [(y, x) for x, y in path_visited]\n",
    "for x, y in path_visited:\n",
    "    if 0 <= x < width and 0 <= y < height:\n",
    "        plt.scatter(x, y, c='r', s=4)\n",
    "        # disegna il punto (x, y) sull'immagine\n",
    "    else:\n",
    "        print(\"Coordinate fuori dalle dimensioni dell'immagine:\", x, y)\n",
    "        # le coordinate non sono valide, quindi non disegna nulla\n",
    "print(path_visited)\n",
    "\"\"\""
   ]
  },
  {
   "cell_type": "code",
   "execution_count": 49,
   "metadata": {},
   "outputs": [
    {
     "data": {
      "text/plain": [
       "\"\\nfrom shapely.geometry import Polygon, LineString\\n\\n# Caricamento dell'immagine\\nimg = os.path.join(img_files, latest_file)\\nrgb_img = plt.imread(img)\\nimg_array = np.array(rgb_img)\\n\\n# Filtro coordinate che rappresentano i muri\\nfiltered_path = []\\nfor x, y in path_visited:\\n    if img_array[y][x][0] != 0 and img_array[y][x][1] != 0 and img_array[y][x][2] != 0:\\n        filtered_path.append((x, y))\\n\\n# creazione linea a partire dalle coordinate\\nline = LineString(filtered_path)\\n\\n# simplificazione linea\\nsimplified_line = line.simplify(0.1, preserve_topology=False)\\n\\n# creazione poligono a partire dalla linea semplificata\\npolygon = Polygon(list(simplified_line.coords))\\n\\n# accesso alle coordinate del poligono\\nsimplified_path = list(polygon.exterior.coords)\\nsimplified_path = [(int(x), int(y)) for x, y in simplified_path]\\nprint(x)\\n## Disegno del percorso sull'immagine\\nfor x, y in simplified_path:\\n    img_array[y][x] = [255, 0, 0]  # i percorsi sono rappresentati da pixel rossi\\n\\n# Salvataggio immagine\\nimg = Image.fromarray(img_array)\\nimg.show()\\n\""
      ]
     },
     "execution_count": 49,
     "metadata": {},
     "output_type": "execute_result"
    }
   ],
   "source": [
    "\"\"\"\n",
    "from shapely.geometry import Polygon, LineString\n",
    "\n",
    "# Caricamento dell'immagine\n",
    "img = os.path.join(img_files, latest_file)\n",
    "rgb_img = plt.imread(img)\n",
    "img_array = np.array(rgb_img)\n",
    "\n",
    "# Filtro coordinate che rappresentano i muri\n",
    "filtered_path = []\n",
    "for x, y in path_visited:\n",
    "    if img_array[y][x][0] != 0 and img_array[y][x][1] != 0 and img_array[y][x][2] != 0:\n",
    "        filtered_path.append((x, y))\n",
    "\n",
    "# creazione linea a partire dalle coordinate\n",
    "line = LineString(filtered_path)\n",
    "\n",
    "# simplificazione linea\n",
    "simplified_line = line.simplify(0.1, preserve_topology=False)\n",
    "\n",
    "# creazione poligono a partire dalla linea semplificata\n",
    "polygon = Polygon(list(simplified_line.coords))\n",
    "\n",
    "# accesso alle coordinate del poligono\n",
    "simplified_path = list(polygon.exterior.coords)\n",
    "simplified_path = [(int(x), int(y)) for x, y in simplified_path]\n",
    "print(x)\n",
    "## Disegno del percorso sull'immagine\n",
    "for x, y in simplified_path:\n",
    "    img_array[y][x] = [255, 0, 0]  # i percorsi sono rappresentati da pixel rossi\n",
    "\n",
    "# Salvataggio immagine\n",
    "img = Image.fromarray(img_array)\n",
    "img.show()\n",
    "\"\"\""
   ]
  },
  {
   "cell_type": "code",
   "execution_count": 50,
   "metadata": {},
   "outputs": [
    {
     "data": {
      "text/plain": [
       "\"\\nimport numpy as np\\nfrom PIL import Image\\nimport os\\nimport matplotlib.pyplot as plt\\nfrom shapely.geometry import Polygon, LineString\\n\\n\\n# Caricamento dell'immagine\\nimg = os.path.join(img_files, latest_file)\\nrgb_img = plt.imread(img)\\nimg_array = np.array(rgb_img)\\n#path_visited = [(x, y) for y, x in path_visited]\\nprint(path_visited)\\n# Filtro coordinate che rappresentano i muri\\nfiltered_path = []\\nfor x, y in path_visited:\\n    if img_array[y][x][0] != 0 and img_array[y][x][1] != 0 and img_array[y][x][2] != 0:\\n        filtered_path.append((x, y))\\n\\n#print (filtered_path)\\n\\n\\n# creazione linea a partire dalle coordinate\\nline = LineString(path_visited)\\n\\n# simplificazione linea\\nsimplified_line = line.simplify(0.1, preserve_topology=False)\\n\\n# creazione poligono a partire dalla linea semplificata\\npolygon = Polygon(list(simplified_line.coords))\\n\\n# accesso alle coordinate del poligono\\nsimplified_path = list(polygon.exterior.coords)\\nsimplified_path = [(int(x), int(y)) for x, y in simplified_path]\\nprint (simplified_path)\\n\\n## Disegno del percorso sull'immagine\\nfor x, y in simplified_path:\\n    img_array[y][x] = [255, 0, 0]  # i percorsi sono rappresentati da pixel rossi\\n\\n# Salvataggio immagine\\nimg = Image.fromarray(img_array)\\n#img.show()\\n\""
      ]
     },
     "execution_count": 50,
     "metadata": {},
     "output_type": "execute_result"
    }
   ],
   "source": [
    "\"\"\"\n",
    "import numpy as np\n",
    "from PIL import Image\n",
    "import os\n",
    "import matplotlib.pyplot as plt\n",
    "from shapely.geometry import Polygon, LineString\n",
    "\n",
    "\n",
    "# Caricamento dell'immagine\n",
    "img = os.path.join(img_files, latest_file)\n",
    "rgb_img = plt.imread(img)\n",
    "img_array = np.array(rgb_img)\n",
    "#path_visited = [(x, y) for y, x in path_visited]\n",
    "print(path_visited)\n",
    "# Filtro coordinate che rappresentano i muri\n",
    "filtered_path = []\n",
    "for x, y in path_visited:\n",
    "    if img_array[y][x][0] != 0 and img_array[y][x][1] != 0 and img_array[y][x][2] != 0:\n",
    "        filtered_path.append((x, y))\n",
    "\n",
    "#print (filtered_path)\n",
    "\n",
    "\n",
    "# creazione linea a partire dalle coordinate\n",
    "line = LineString(path_visited)\n",
    "\n",
    "# simplificazione linea\n",
    "simplified_line = line.simplify(0.1, preserve_topology=False)\n",
    "\n",
    "# creazione poligono a partire dalla linea semplificata\n",
    "polygon = Polygon(list(simplified_line.coords))\n",
    "\n",
    "# accesso alle coordinate del poligono\n",
    "simplified_path = list(polygon.exterior.coords)\n",
    "simplified_path = [(int(x), int(y)) for x, y in simplified_path]\n",
    "print (simplified_path)\n",
    "\n",
    "## Disegno del percorso sull'immagine\n",
    "for x, y in simplified_path:\n",
    "    img_array[y][x] = [255, 0, 0]  # i percorsi sono rappresentati da pixel rossi\n",
    "\n",
    "# Salvataggio immagine\n",
    "img = Image.fromarray(img_array)\n",
    "#img.show()\n",
    "\"\"\""
   ]
  },
  {
   "cell_type": "code",
   "execution_count": 51,
   "metadata": {},
   "outputs": [
    {
     "data": {
      "text/plain": [
       "\"\\nimport numpy as np\\nfrom PIL import Image\\nfrom skimage.draw import line\\n\\nimg = os.path.join(img_files, latest_file)\\nrgb_img = plt.imread(img)\\nimg_array = np.array(rgb_img)\\n\\nfiltered_path = []\\nfor i in range(1, len(path_visited)):\\n    x1, y1 = path_visited[i-1]\\n    x2, y2 = path_visited[i]\\n    if abs(x2-x1) <= 1 and abs(y2-y1) <= 1:  # le coordinate successive possono differire di 1 solo in una direzione\\n        if not (img_array[y2][x2] != [0, 0, 0]).all():  # i muri sono rappresentati da pixel neri\\n            filtered_path.append((x2, y2))\\nprint(filtered_path)\\nfor i in range(1, len(filtered_path)):\\n    x1, y1 = filtered_path[i-1]\\n    x2, y2 = filtered_path[i]\\n    rr, cc = line(y1, x1, y2, x2)  # utilizzo l'algoritmo di Bresenham per tracciare una linea tra i punti consecutivi\\n    img_array[rr, cc] = [255, 0, 0]\\n\\nimg = Image.fromarray(img_array)\\nimg.show()\\n\""
      ]
     },
     "execution_count": 51,
     "metadata": {},
     "output_type": "execute_result"
    }
   ],
   "source": [
    "\"\"\"\n",
    "import numpy as np\n",
    "from PIL import Image\n",
    "from skimage.draw import line\n",
    "\n",
    "img = os.path.join(img_files, latest_file)\n",
    "rgb_img = plt.imread(img)\n",
    "img_array = np.array(rgb_img)\n",
    "\n",
    "filtered_path = []\n",
    "for i in range(1, len(path_visited)):\n",
    "    x1, y1 = path_visited[i-1]\n",
    "    x2, y2 = path_visited[i]\n",
    "    if abs(x2-x1) <= 1 and abs(y2-y1) <= 1:  # le coordinate successive possono differire di 1 solo in una direzione\n",
    "        if not (img_array[y2][x2] != [0, 0, 0]).all():  # i muri sono rappresentati da pixel neri\n",
    "            filtered_path.append((x2, y2))\n",
    "print(filtered_path)\n",
    "for i in range(1, len(filtered_path)):\n",
    "    x1, y1 = filtered_path[i-1]\n",
    "    x2, y2 = filtered_path[i]\n",
    "    rr, cc = line(y1, x1, y2, x2)  # utilizzo l'algoritmo di Bresenham per tracciare una linea tra i punti consecutivi\n",
    "    img_array[rr, cc] = [255, 0, 0]\n",
    "\n",
    "img = Image.fromarray(img_array)\n",
    "img.show()\n",
    "\"\"\""
   ]
  }
 ],
 "metadata": {
  "kernelspec": {
   "display_name": "maze",
   "language": "python",
   "name": "python3"
  },
  "language_info": {
   "codemirror_mode": {
    "name": "ipython",
    "version": 3
   },
   "file_extension": ".py",
   "mimetype": "text/x-python",
   "name": "python",
   "nbconvert_exporter": "python",
   "pygments_lexer": "ipython3",
   "version": "3.9.15"
  },
  "orig_nbformat": 4,
  "vscode": {
   "interpreter": {
    "hash": "70771c0ffc9baaadf257dbe83f6d0aca1fcfe7116f19a800f9db7516a0ba1659"
   }
  }
 },
 "nbformat": 4,
 "nbformat_minor": 2
}
